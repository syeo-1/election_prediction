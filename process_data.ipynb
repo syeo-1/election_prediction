{
 "cells": [
  {
   "cell_type": "code",
   "execution_count": 161,
   "metadata": {},
   "outputs": [],
   "source": [
    "# import necessary libraries and set seed\n",
    "import csv\n",
    "import pandas as pd\n",
    "import numpy as np\n",
    "from collections import Counter\n",
    "import matplotlib.pyplot as plt\n",
    "np.random.seed(1337)\n",
    "\n",
    "# initialize the dataframe to work on\n",
    "cleaned_dataframe = pd.read_csv('original_election_data.csv')"
   ]
  },
  {
   "cell_type": "markdown",
   "metadata": {},
   "source": [
    "# Bad data "
   ]
  },
  {
   "cell_type": "code",
   "execution_count": 162,
   "metadata": {},
   "outputs": [
    {
     "name": "stdout",
     "output_type": "stream",
     "text": [
      "bad_cell_count: 5\n"
     ]
    }
   ],
   "source": [
    "bad_cell_count = 0\n",
    "for i in range(len(cleaned_dataframe)):\n",
    "    check = 0\n",
    "    for j in range(len(cleaned_dataframe.columns)):\n",
    "        if '\\n' in str(cleaned_dataframe.iloc[i, j]) or '<bound method Series.mean' in str(cleaned_dataframe.iloc[i, j]):\n",
    "            cleaned_dataframe.iloc[i, j] = 0\n",
    "            bad_cell_count+=1\n",
    "print(f'bad_cell_count: {bad_cell_count}')\n"
   ]
  },
  {
   "cell_type": "markdown",
   "metadata": {},
   "source": [
    "### Split "
   ]
  },
  {
   "cell_type": "code",
   "execution_count": 163,
   "metadata": {},
   "outputs": [],
   "source": [
    "# when state FIPS code less than 10, four digit codes appear\n",
    "fips = cleaned_dataframe['fips']\n",
    "state_codes = []\n",
    "county_codes = []\n",
    "for val in fips:\n",
    "    # print(type(str(val)))\n",
    "    fip_code = str(val)\n",
    "    if len(fip_code) == 4:\n",
    "        state_codes.append('0'+fip_code[0])\n",
    "        county_codes.append(fip_code[1:])\n",
    "    elif len(fip_code) == 5:\n",
    "        state_codes.append(fip_code[:2])\n",
    "        county_codes.append(fip_code[2:])\n",
    "        \n",
    "# create temp dataframe for the new columns\n",
    "state_county = pd.DataFrame({\n",
    "    'State': state_codes,\n",
    "    'County': county_codes\n",
    "})\n",
    "\n",
    "# concat state and county columns to the dataframe\n",
    "cleaned_dataframe = pd.concat([state_county, cleaned_dataframe], axis=1)"
   ]
  },
  {
   "cell_type": "markdown",
   "metadata": {},
   "source": [
    "### Aggregate "
   ]
  },
  {
   "cell_type": "code",
   "execution_count": 164,
   "metadata": {},
   "outputs": [],
   "source": [
    "# get education and religion columns\n",
    "education = cleaned_dataframe.loc[:, 'Percent of adults with less than a high school diploma, 2011-2015':'Percent of adults with a bachelor\\'s degree or higher, 2011-2015']\n",
    "religion = cleaned_dataframe.loc[:, 'Amish':'Zoroastrian']\n",
    "\n",
    "# create arrays consisting of column titles of largest numbers\n",
    "max_education = education.idxmax(axis=1)\n",
    "max_religion = religion.idxmax(axis=1)\n",
    "\n",
    "# simplify max education names\n",
    "for i in range(len(max_education)):\n",
    "    # less than high school diploma\n",
    "    # high school diploma only\n",
    "    # some college\n",
    "    # bachelors or higher\n",
    "    if 'less than a high school diploma' in max_education[i]:\n",
    "        max_education[i] = 'less than highschool diploma'\n",
    "    elif 'high school diploma only' in max_education[i]:\n",
    "        max_education[i] = 'highschool diploma only'\n",
    "    elif 'some college' in max_education[i]:\n",
    "        max_education[i] = 'some college'\n",
    "    else: # bachelors+\n",
    "        max_education[i] = 'bachelors or higher'\n",
    "\n",
    "\n",
    "# at this point, max education and max religion arrays are prepped\n",
    "# do work on the new data frame for replacement\n",
    "\n",
    "# drop the old education features\n",
    "cleaned_dataframe.drop('Percent of adults with less than a high school diploma, 2011-2015', axis=1, inplace=True)\n",
    "cleaned_dataframe.drop('Percent of adults with a high school diploma only, 2011-2015', axis=1, inplace=True)\n",
    "cleaned_dataframe.drop('Percent of adults completing some college or associate\\'s degree, 2011-2015', axis=1, inplace=True)\n",
    "cleaned_dataframe.drop('Percent of adults with a bachelor\\'s degree or higher, 2011-2015', axis=1, inplace=True)\n",
    "\n",
    "# drop the old religion features\n",
    "cleaned_dataframe.drop(cleaned_dataframe.loc[:, 'Amish':'Zoroastrian'], axis=1, inplace=True)\n",
    "\n",
    "# insert the new education and religion columns\n",
    "cleaned_dataframe.insert(4, 'Education', max_education)\n",
    "cleaned_dataframe.insert(7, 'Religion', max_religion)\n",
    "\n",
    "# Aggregate age\n",
    "\n",
    "# gather data\n",
    "old_data = cleaned_dataframe.loc[:, '65-69_rate':'85+_rate'].sum(axis=1)\n",
    "adult_data  = cleaned_dataframe.loc[:, '20-24_rate':'60-64_rate'].sum(axis=1)\n",
    "young_data  = cleaned_dataframe.loc[:, '0-4_rate':'15-19_rate'].sum(axis=1)\n",
    "\n",
    "# create dataframe for easier analysis\n",
    "age_dataframe = pd.DataFrame({\n",
    "    'Young': young_data,\n",
    "    'Adult': adult_data,\n",
    "    'Old': old_data\n",
    "})\n",
    "\n",
    "# create array for getting category label with largest element\n",
    "age_data = age_dataframe.idxmax(axis=1)\n",
    "\n",
    "# add the age column\n",
    "cleaned_dataframe.insert(22, 'Age', age_data)\n",
    "\n",
    "# ethnic aggregator\n",
    "ethnic_male = cleaned_dataframe.loc[:, 'BLACK_MALE_rate':'MULTI_MALE_rate':2]\n",
    "ethnic_female = cleaned_dataframe.loc[:, 'BLACK_FEMALE_rate':'MULTI_FEMALE_rate':2]\n",
    "\n",
    "max_ethnic_male = ethnic_male.idxmax(axis=1)\n",
    "max_ethnic_female = ethnic_female.idxmax(axis=1)\n",
    "\n",
    "\n",
    "# drop specific ethnic male and female groups\n",
    "cleaned_dataframe.drop(cleaned_dataframe.loc[:, 'BLACK_MALE_rate':'MULTI_FEMALE_rate'], axis=1, inplace=True)\n",
    "\n",
    "# add in the max ethnic male and female rates\n",
    "cleaned_dataframe.insert(44, 'EthnicFemale', max_ethnic_female)\n",
    "cleaned_dataframe.insert(44, 'EthnicMale', max_ethnic_male)\n",
    "\n",
    "# remove the specified features for the assignment\n",
    "cleaned_dataframe.drop('PovertyUnder18Pct2014', axis=1, inplace=True)\n",
    "cleaned_dataframe.drop('Deep_Pov_Children', axis=1, inplace=True)\n",
    "cleaned_dataframe.drop('Housing units', axis=1, inplace=True)\n",
    "cleaned_dataframe.drop('Area in square miles - Water area', axis=1, inplace=True)\n",
    "cleaned_dataframe.drop('Area in square miles - Land area', axis=1, inplace=True)\n",
    "cleaned_dataframe.drop('Density per square mile of land area - Housing units', axis=1, inplace=True)\n",
    "cleaned_dataframe.drop('age_total_pop', axis=1, inplace=True)\n"
   ]
  },
  {
   "cell_type": "markdown",
   "metadata": {},
   "source": [
    "### Rename "
   ]
  },
  {
   "cell_type": "code",
   "execution_count": 165,
   "metadata": {},
   "outputs": [],
   "source": [
    "# do inplace to edit the dataframe\n",
    "cleaned_dataframe.rename(columns={\n",
    "    'POP_ESTIMATE_2015':'PopulationEstimate2015',\n",
    "    'Area in square miles - Total area':'TotalAreaSqM',\n",
    "    'Density per square mile of land area - Population':'PopulationDensitySqM',\n",
    "    }, inplace=True)"
   ]
  },
  {
   "cell_type": "markdown",
   "metadata": {},
   "source": [
    "### Normalize "
   ]
  },
  {
   "cell_type": "code",
   "execution_count": 166,
   "metadata": {},
   "outputs": [],
   "source": [
    "# formula for z-score normalization is (value-mean)/standard_dev\n",
    "\n",
    "median_household_inc = cleaned_dataframe['MedHHInc2014'].to_numpy()\n",
    "per_capita_inc = cleaned_dataframe['PerCapitaInc'].to_numpy()\n",
    "pop_est = cleaned_dataframe['PopulationEstimate2015'].to_numpy()\n",
    "pop = cleaned_dataframe['Population'].to_numpy().astype(np.float)\n",
    "area_sqM = cleaned_dataframe['TotalAreaSqM'].to_numpy()\n",
    "pop_dense_sqM = cleaned_dataframe['PopulationDensitySqM'].to_numpy()\n",
    "\n",
    "# get all means\n",
    "med_inc_mean = np.mean(median_household_inc)\n",
    "per_capita_inc_mean = np.mean(per_capita_inc)\n",
    "pop_est_mean = np.mean(pop_est)\n",
    "pop_mean = np.mean(pop)\n",
    "area_sqM_mean = np.mean(area_sqM)\n",
    "pop_dense_sqM_mean = np.mean(pop_dense_sqM)\n",
    "\n",
    "# get all standard deviations\n",
    "med_std = np.std(median_household_inc)\n",
    "per_capita_std = np.std(per_capita_inc)\n",
    "pop_est_std = np.std(pop_est)\n",
    "pop_std = np.std(pop)\n",
    "area_sqM_std = np.std(area_sqM)\n",
    "pop_dense_sqM_std = np.std(pop_dense_sqM)\n",
    "\n",
    "\n",
    "# Z-normalize the data\n",
    "# normalized_med_hh_inc = []\n",
    "# normalized_per_cap_inc = []\n",
    "\n",
    "# for income in median_household_inc:\n",
    "#     normalized_med_hh_inc.append((income-med_inc_mean)/med_std)\n",
    "\n",
    "# for income in per_capita_inc:\n",
    "#     normalized_per_cap_inc.append((income-per_capita_inc_mean)/per_capita_std)\n",
    "\n",
    "# set the column values to the normalized ones\n",
    "cleaned_dataframe['MedHHInc2014'] = (median_household_inc-med_inc_mean)/med_std\n",
    "cleaned_dataframe['PerCapitaInc'] = (per_capita_inc-per_capita_inc_mean)/per_capita_std\n",
    "cleaned_dataframe['PopulationEstimate2015'] = (pop_est-pop_est_mean)/pop_est_std\n",
    "cleaned_dataframe['Population'] = (pop-pop_mean)/pop_std\n",
    "cleaned_dataframe['TotalAreaSqM'] = (area_sqM-area_sqM_mean)/area_sqM_std\n",
    "cleaned_dataframe['PopulationDensitySqM'] = (pop_dense_sqM-pop_dense_sqM_mean)/pop_dense_sqM_std\n",
    "\n",
    "# add in rate features between 0 and 1\n",
    "cleaned_dataframe['PovertyAllAgesPct2014'] = cleaned_dataframe['PovertyAllAgesPct2014'].to_numpy()/100\n",
    "cleaned_dataframe['Deep_Pov_All'] = cleaned_dataframe['Deep_Pov_All'].to_numpy()/100\n",
    "cleaned_dataframe['Unemployment_rate_2015'] = cleaned_dataframe['Unemployment_rate_2015'].to_numpy()/100\n",
    "cleaned_dataframe['voter_turnout_rate']= cleaned_dataframe['voter_turnout_rate'].to_numpy()/100"
   ]
  },
  {
   "cell_type": "markdown",
   "metadata": {},
   "source": [
    "### Summary "
   ]
  },
  {
   "cell_type": "code",
   "execution_count": 167,
   "metadata": {},
   "outputs": [
    {
     "name": "stdout",
     "output_type": "stream",
     "text": [
      "Index(['State', 'County', 'fips', 'votes', 'Education',\n",
      "       'Unemployment_rate_2015', 'PopulationEstimate2015', 'Religion',\n",
      "       'MedHHInc2014', 'PerCapitaInc', 'PovertyAllAgesPct2014', 'Deep_Pov_All',\n",
      "       'Population', 'TotalAreaSqM', 'PopulationDensitySqM', 'Age', '0-4_rate',\n",
      "       '5-9_rate', '10-14_rate', '15-19_rate', '20-24_rate', '25-29_rate',\n",
      "       '30-34_rate', '35-39_rate', '40-44_rate', '45-49_rate', '50-54_rate',\n",
      "       '55-59_rate', '60-64_rate', '65-69_rate', '70-74_rate', '75-79_rate',\n",
      "       '80-84_rate', '85+_rate', 'TOT_MALE_rate', 'TOT_FEMALE_rate',\n",
      "       'WHITE_MALE_rate', 'EthnicMale', 'EthnicFemale', 'WHITE_FEMALE_rate',\n",
      "       'WHITE_rate', 'BLACK_rate', 'NATIVE_AMERICAN_rate',\n",
      "       'HAWAIIAN_PACIFIC_rate', 'MULTI_rate', 'voter_turnout_rate',\n",
      "       'Democrat'],\n",
      "      dtype='object')\n",
      "PopulationEstimate2015\n",
      "mean: 6.671928510465965e-18\n",
      "standard deviation: 0.9999999999999991\n",
      "\n",
      "Population\n",
      "mean: -4.253795690535178e-17\n",
      "standard deviation: 0.9999999999999992\n",
      "\n",
      "correlation between Population and PopulationEstimate2015 is: 0.9915591351404103\n",
      "\n",
      "PerCapitaInc\n",
      "median: -0.1192018238875923\n",
      "quartiles: 0.25   -0.664531\n",
      "0.50   -0.119202\n",
      "0.75    0.478573\n",
      "Name: PerCapitaInc, dtype: float64\n",
      "IQR: 1.143104327988246\n",
      "\n",
      "PovertyAllAgesPct2014\n",
      "median: 0.158\n",
      "quartiles: 0.25    0.121\n",
      "0.50    0.158\n",
      "0.75    0.203\n",
      "Name: PovertyAllAgesPct2014, dtype: float64\n",
      "IQR: 0.08200000000000002\n",
      "\n",
      "Mode of combined Religion and EthnicMale feature: [('Christian Generic BLACK_MALE_rate', 1338)]\n"
     ]
    }
   ],
   "source": [
    "# name, mean and standard deviation data\n",
    "print(cleaned_dataframe.columns)\n",
    "# data for PopulationEstimate2015\n",
    "pop_estimate_mean = sum(cleaned_dataframe['PopulationEstimate2015'])/len(cleaned_dataframe['PopulationEstimate2015'])\n",
    "pop_estimate_std_dev = np.std(cleaned_dataframe['PopulationEstimate2015'])\n",
    "\n",
    "print('PopulationEstimate2015')\n",
    "print(f'mean: {pop_estimate_mean}')\n",
    "print(f'standard deviation: {pop_estimate_std_dev}')\n",
    "print()# some separation between print blocks\n",
    "\n",
    "# data for Population\n",
    "pop_mean = pd.to_numeric(cleaned_dataframe['Population']).mean()\n",
    "pop_std_dev = np.std(pd.to_numeric(cleaned_dataframe['Population']))\n",
    "\n",
    "print('Population')\n",
    "print(f'mean: {pop_mean}')\n",
    "print(f'standard deviation: {pop_std_dev}')\n",
    "print()\n",
    "\n",
    "# calculate correlation score of PopulationEstimate2015 and Population\n",
    "pop_est_np = cleaned_dataframe['PopulationEstimate2015'].to_numpy()\n",
    "pop_np = cleaned_dataframe['Population'].to_numpy().astype(np.float)\n",
    "numer1 = pop_est_np - pop_estimate_mean\n",
    "numer2 = pop_np - pop_mean\n",
    "numerator = np.sum(numer1*numer2)\n",
    "denom1 = np.sum(numer1 ** 2)\n",
    "denom2 = np.sum(numer2 ** 2)\n",
    "denominator = np.sqrt(denom1*denom2)\n",
    "r = numerator/denominator\n",
    "print(f'correlation between Population and PopulationEstimate2015 is: {r}')\n",
    "\n",
    "# correlation above 0.9, drop the estimate\n",
    "cleaned_dataframe.drop('PopulationEstimate2015', axis=1, inplace=True)\n",
    "\n",
    "print()\n",
    "\n",
    "# name, median, quartiles, IQR (inter-quartile range) data\n",
    "\n",
    "# PerCapitaInc\n",
    "per_capita_inc_med = np.median(cleaned_dataframe['PerCapitaInc'])\n",
    "per_capita_inc_quartiles = cleaned_dataframe['PerCapitaInc'].quantile([0.25, 0.5, 0.75])\n",
    "per_capita_inc_IQR = per_capita_inc_quartiles[0.75] - per_capita_inc_quartiles[0.25]\n",
    "\n",
    "print('PerCapitaInc')\n",
    "print(f'median: {per_capita_inc_med}')\n",
    "print(f'quartiles: {per_capita_inc_quartiles}')\n",
    "print(f'IQR: {per_capita_inc_IQR}')\n",
    "print()\n",
    "\n",
    "# PovertyAllAgesPct2014\n",
    "poverty_all_ages_med = np.median(cleaned_dataframe['PovertyAllAgesPct2014'])\n",
    "poverty_all_ages_quartiles = cleaned_dataframe['PovertyAllAgesPct2014'].quantile([0.25, 0.5, 0.75])\n",
    "poverty_all_ages_IQR = poverty_all_ages_quartiles[0.75] - poverty_all_ages_quartiles[0.25]\n",
    "\n",
    "print('PovertyAllAgesPct2014')\n",
    "print(f'median: {poverty_all_ages_med}')\n",
    "print(f'quartiles: {poverty_all_ages_quartiles}')\n",
    "print(f'IQR: {poverty_all_ages_IQR}')\n",
    "print()\n",
    "\n",
    "\n",
    "# mode of combined religion and ethnic male feature\n",
    "mode_array = cleaned_dataframe['Religion'] + \" \" + cleaned_dataframe['EthnicMale']\n",
    "mode = Counter(mode_array).most_common(1)\n",
    "print(f'Mode of combined Religion and EthnicMale feature: {mode}')"
   ]
  },
  {
   "cell_type": "markdown",
   "metadata": {},
   "source": [
    "###  Visualize"
   ]
  },
  {
   "cell_type": "markdown",
   "metadata": {},
   "source": [
    "#### Histograms "
   ]
  },
  {
   "cell_type": "code",
   "execution_count": 168,
   "metadata": {},
   "outputs": [
    {
     "data": {
      "text/plain": [
       "<Figure size 576x288 with 0 Axes>"
      ]
     },
     "execution_count": 168,
     "metadata": {},
     "output_type": "execute_result"
    },
    {
     "data": {
      "text/plain": [
       "<Figure size 576x288 with 0 Axes>"
      ]
     },
     "metadata": {},
     "output_type": "display_data"
    }
   ],
   "source": [
    "# set some parameters for plt\n",
    "plt.figure(figsize=(8,4))"
   ]
  },
  {
   "cell_type": "code",
   "execution_count": 169,
   "metadata": {},
   "outputs": [
    {
     "data": {
      "image/png": "[encoded data removed]",
      "text/plain": [
       "<Figure size 432x288 with 1 Axes>"
      ]
     },
     "metadata": {
      "needs_background": "light"
     },
     "output_type": "display_data"
    }
   ],
   "source": [
    "plt.hist(cleaned_dataframe['Religion'])\n",
    "plt.show()"
   ]
  },
  {
   "cell_type": "code",
   "execution_count": 170,
   "metadata": {},
   "outputs": [
    {
     "data": {
      "image/png": "[encoded data removed]",
      "text/plain": [
       "<Figure size 432x288 with 1 Axes>"
      ]
     },
     "metadata": {
      "needs_background": "light"
     },
     "output_type": "display_data"
    }
   ],
   "source": [
    "plt.hist(cleaned_dataframe['EthnicMale'])\n",
    "plt.show()"
   ]
  },
  {
   "cell_type": "code",
   "execution_count": 171,
   "metadata": {},
   "outputs": [
    {
     "data": {
      "image/png": "[encoded data removed]",
      "text/plain": [
       "<Figure size 432x288 with 1 Axes>"
      ]
     },
     "metadata": {
      "needs_background": "light"
     },
     "output_type": "display_data"
    }
   ],
   "source": [
    "plt.hist(cleaned_dataframe['EthnicFemale'])\n",
    "plt.show()"
   ]
  },
  {
   "cell_type": "code",
   "execution_count": 172,
   "metadata": {},
   "outputs": [
    {
     "data": {
      "image/png": "[encoded data removed]",
      "text/plain": [
       "<Figure size 432x288 with 1 Axes>"
      ]
     },
     "metadata": {
      "needs_background": "light"
     },
     "output_type": "display_data"
    }
   ],
   "source": [
    "plt.hist(cleaned_dataframe['Education'])\n",
    "plt.show()"
   ]
  },
  {
   "cell_type": "markdown",
   "metadata": {},
   "source": [
    "#### Scatterplots"
   ]
  },
  {
   "cell_type": "code",
   "execution_count": 173,
   "metadata": {},
   "outputs": [
    {
     "data": {
      "image/png": "[encoded data removed]",
      "text/plain": [
       "<Figure size 432x288 with 1 Axes>"
      ]
     },
     "metadata": {
      "needs_background": "light"
     },
     "output_type": "display_data"
    }
   ],
   "source": [
    "plt.scatter(x=cleaned_dataframe['TotalAreaSqM'],y=pd.to_numeric(cleaned_dataframe['Population']))\n",
    "plt.show()"
   ]
  },
  {
   "cell_type": "markdown",
   "metadata": {},
   "source": [
    "#### Boxplots "
   ]
  },
  {
   "cell_type": "code",
   "execution_count": 174,
   "metadata": {},
   "outputs": [
    {
     "data": {
      "image/png": "[encoded data removed]",
      "text/plain": [
       "<Figure size 432x288 with 1 Axes>"
      ]
     },
     "metadata": {
      "needs_background": "light"
     },
     "output_type": "display_data"
    },
    {
     "data": {
      "image/png": "[encoded data removed]",
      "text/plain": [
       "<Figure size 432x288 with 1 Axes>"
      ]
     },
     "metadata": {
      "needs_background": "light"
     },
     "output_type": "display_data"
    }
   ],
   "source": [
    "plt.boxplot(cleaned_dataframe['PerCapitaInc'])\n",
    "plt.show()\n",
    "plt.boxplot(cleaned_dataframe['PovertyAllAgesPct2014'])\n",
    "plt.show()"
   ]
  },
  {
   "cell_type": "markdown",
   "metadata": {},
   "source": [
    "### Output"
   ]
  },
  {
   "cell_type": "code",
   "execution_count": 175,
   "metadata": {},
   "outputs": [],
   "source": [
    "# get rid of the age rate columns now (so won't affect earlier index-based insertions)\n",
    "cleaned_dataframe.drop(cleaned_dataframe.loc[:, '0-4_rate':'85+_rate'], axis=1, inplace=True)\n",
    "\n",
    "cleaned_dataframe.to_csv('elections_clean.csv', index=False)"
   ]
  },
  {
   "cell_type": "markdown",
   "metadata": {},
   "source": [
    "### Conflict"
   ]
  },
  {
   "cell_type": "markdown",
   "metadata": {},
   "source": [
    "To truly complete this section, I would have needed to find two rows which share the same values between features, but the outcome (label vector) would be different. For example, if two different rows shared the same value for Religion (say Generic Christian), and EthnicMale (say BLACK_MALE_rate), but the first row's was label vector value was democrat == 1 and the second's was democrat == 0, there would be a conflict between the two rows."
   ]
  },
  {
   "cell_type": "markdown",
   "metadata": {},
   "source": [
    "### Labels "
   ]
  },
  {
   "cell_type": "markdown",
   "metadata": {},
   "source": [
    "In this case, I'm pretty sure the label vector is just the Democrat feature on the very far right of the csv file. So all the other features are used in an attempt to predict whether or not the victor in that specific county within that state is a democrat or not."
   ]
  },
  {
   "cell_type": "code",
   "execution_count": null,
   "metadata": {},
   "outputs": [],
   "source": []
  }
 ],
 "metadata": {
  "kernelspec": {
   "display_name": "Python 3",
   "language": "python",
   "name": "python3"
  },
  "language_info": {
   "codemirror_mode": {
    "name": "ipython",
    "version": 3
   },
   "file_extension": ".py",
   "mimetype": "text/x-python",
   "name": "python",
   "nbconvert_exporter": "python",
   "pygments_lexer": "ipython3",
   "version": "3.8.5"
  }
 },
 "nbformat": 4,
 "nbformat_minor": 4
}
