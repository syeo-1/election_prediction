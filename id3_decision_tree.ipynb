{
 "cells": [
  {
   "cell_type": "code",
   "execution_count": 151,
   "metadata": {},
   "outputs": [],
   "source": [
    "# import necessary libraries and set numpy seed\n",
    "import pandas as pd\n",
    "import numpy as np\n",
    "import random\n",
    "from collections import Counter\n",
    "import math\n",
    "import matplotlib.pyplot as plt\n",
    "import copy\n",
    "np.random.seed(1337)\n",
    "random.seed(1337)"
   ]
  },
  {
   "cell_type": "code",
   "execution_count": 152,
   "metadata": {},
   "outputs": [],
   "source": [
    "class TreeNode:\n",
    "    def __init__(self, feature, branch=None):\n",
    "        self.parent_branch_val = branch\n",
    "        self.feature = feature\n",
    "        self.children  = []\n",
    "\n",
    "# create a treenode class\n",
    "class DecisionTree:\n",
    "    def __init__(self):\n",
    "        self.feature = None\n",
    "        self.children = []\n",
    "    "
   ]
  },
  {
   "cell_type": "code",
   "execution_count": 153,
   "metadata": {},
   "outputs": [],
   "source": [
    "# create a decision tree instance\n",
    "id3_tree = DecisionTree()"
   ]
  },
  {
   "cell_type": "code",
   "execution_count": 154,
   "metadata": {},
   "outputs": [
    {
     "data": {
      "text/html": [
       "<div>\n",
       "<style scoped>\n",
       "    .dataframe tbody tr th:only-of-type {\n",
       "        vertical-align: middle;\n",
       "    }\n",
       "\n",
       "    .dataframe tbody tr th {\n",
       "        vertical-align: top;\n",
       "    }\n",
       "\n",
       "    .dataframe thead th {\n",
       "        text-align: right;\n",
       "    }\n",
       "</style>\n",
       "<table border=\"1\" class=\"dataframe\">\n",
       "  <thead>\n",
       "    <tr style=\"text-align: right;\">\n",
       "      <th></th>\n",
       "      <th>Education</th>\n",
       "      <th>Religion</th>\n",
       "      <th>EthnicMale</th>\n",
       "      <th>EthnicFemale</th>\n",
       "      <th>Democrat</th>\n",
       "    </tr>\n",
       "  </thead>\n",
       "  <tbody>\n",
       "    <tr>\n",
       "      <th>0</th>\n",
       "      <td>highschool diploma only</td>\n",
       "      <td>Other Misc</td>\n",
       "      <td>BLACK_MALE_rate</td>\n",
       "      <td>BLACK_FEMALE_rate</td>\n",
       "      <td>0</td>\n",
       "    </tr>\n",
       "    <tr>\n",
       "      <th>1</th>\n",
       "      <td>highschool diploma only</td>\n",
       "      <td>Catholic</td>\n",
       "      <td>BLACK_MALE_rate</td>\n",
       "      <td>BLACK_FEMALE_rate</td>\n",
       "      <td>0</td>\n",
       "    </tr>\n",
       "    <tr>\n",
       "      <th>2</th>\n",
       "      <td>some college</td>\n",
       "      <td>Christian Generic</td>\n",
       "      <td>BLACK_MALE_rate</td>\n",
       "      <td>BLACK_FEMALE_rate</td>\n",
       "      <td>0</td>\n",
       "    </tr>\n",
       "    <tr>\n",
       "      <th>3</th>\n",
       "      <td>highschool diploma only</td>\n",
       "      <td>Catholic</td>\n",
       "      <td>BLACK_MALE_rate</td>\n",
       "      <td>BLACK_FEMALE_rate</td>\n",
       "      <td>0</td>\n",
       "    </tr>\n",
       "    <tr>\n",
       "      <th>4</th>\n",
       "      <td>some college</td>\n",
       "      <td>Catholic</td>\n",
       "      <td>BLACK_MALE_rate</td>\n",
       "      <td>BLACK_FEMALE_rate</td>\n",
       "      <td>0</td>\n",
       "    </tr>\n",
       "    <tr>\n",
       "      <th>...</th>\n",
       "      <td>...</td>\n",
       "      <td>...</td>\n",
       "      <td>...</td>\n",
       "      <td>...</td>\n",
       "      <td>...</td>\n",
       "    </tr>\n",
       "    <tr>\n",
       "      <th>3140</th>\n",
       "      <td>some college</td>\n",
       "      <td>Catholic</td>\n",
       "      <td>MULTI_MALE_rate</td>\n",
       "      <td>NATIVE_AMERICAN_FEMALE_rate</td>\n",
       "      <td>0</td>\n",
       "    </tr>\n",
       "    <tr>\n",
       "      <th>3141</th>\n",
       "      <td>bachelors or higher</td>\n",
       "      <td>Catholic</td>\n",
       "      <td>MULTI_MALE_rate</td>\n",
       "      <td>NATIVE_AMERICAN_FEMALE_rate</td>\n",
       "      <td>1</td>\n",
       "    </tr>\n",
       "    <tr>\n",
       "      <th>3142</th>\n",
       "      <td>highschool diploma only</td>\n",
       "      <td>Mormon</td>\n",
       "      <td>MULTI_MALE_rate</td>\n",
       "      <td>NATIVE_AMERICAN_FEMALE_rate</td>\n",
       "      <td>0</td>\n",
       "    </tr>\n",
       "    <tr>\n",
       "      <th>3143</th>\n",
       "      <td>some college</td>\n",
       "      <td>Christian Generic</td>\n",
       "      <td>MULTI_MALE_rate</td>\n",
       "      <td>NATIVE_AMERICAN_FEMALE_rate</td>\n",
       "      <td>0</td>\n",
       "    </tr>\n",
       "    <tr>\n",
       "      <th>3144</th>\n",
       "      <td>some college</td>\n",
       "      <td>Christian Generic</td>\n",
       "      <td>MULTI_MALE_rate</td>\n",
       "      <td>NATIVE_AMERICAN_FEMALE_rate</td>\n",
       "      <td>0</td>\n",
       "    </tr>\n",
       "  </tbody>\n",
       "</table>\n",
       "<p>3145 rows × 5 columns</p>\n",
       "</div>"
      ],
      "text/plain": [
       "                    Education           Religion       EthnicMale  \\\n",
       "0     highschool diploma only         Other Misc  BLACK_MALE_rate   \n",
       "1     highschool diploma only           Catholic  BLACK_MALE_rate   \n",
       "2                some college  Christian Generic  BLACK_MALE_rate   \n",
       "3     highschool diploma only           Catholic  BLACK_MALE_rate   \n",
       "4                some college           Catholic  BLACK_MALE_rate   \n",
       "...                       ...                ...              ...   \n",
       "3140             some college           Catholic  MULTI_MALE_rate   \n",
       "3141      bachelors or higher           Catholic  MULTI_MALE_rate   \n",
       "3142  highschool diploma only             Mormon  MULTI_MALE_rate   \n",
       "3143             some college  Christian Generic  MULTI_MALE_rate   \n",
       "3144             some college  Christian Generic  MULTI_MALE_rate   \n",
       "\n",
       "                     EthnicFemale  Democrat  \n",
       "0               BLACK_FEMALE_rate         0  \n",
       "1               BLACK_FEMALE_rate         0  \n",
       "2               BLACK_FEMALE_rate         0  \n",
       "3               BLACK_FEMALE_rate         0  \n",
       "4               BLACK_FEMALE_rate         0  \n",
       "...                           ...       ...  \n",
       "3140  NATIVE_AMERICAN_FEMALE_rate         0  \n",
       "3141  NATIVE_AMERICAN_FEMALE_rate         1  \n",
       "3142  NATIVE_AMERICAN_FEMALE_rate         0  \n",
       "3143  NATIVE_AMERICAN_FEMALE_rate         0  \n",
       "3144  NATIVE_AMERICAN_FEMALE_rate         0  \n",
       "\n",
       "[3145 rows x 5 columns]"
      ]
     },
     "execution_count": 154,
     "metadata": {},
     "output_type": "execute_result"
    }
   ],
   "source": [
    "# read the csv file\n",
    "elections_clean = pd.read_csv('elections_clean.csv')\n",
    "num_rows_elections = elections_clean.shape[0]\n",
    "selected_features = elections_clean[[\n",
    "    'Education',\n",
    "    'Religion',\n",
    "    'EthnicMale',\n",
    "    'EthnicFemale',\n",
    "    'Democrat'\n",
    "]]\n",
    "selected_features"
   ]
  },
  {
   "cell_type": "code",
   "execution_count": 155,
   "metadata": {},
   "outputs": [],
   "source": [
    "# function to calculate entropy\n",
    "def calculate_entropy(positives=0, negatives=0):\n",
    "    total = positives+negatives\n",
    "    p_over_p_plus_n = positives/total\n",
    "    n_over_p_plus_n = negatives/total\n",
    "    log_pover = None\n",
    "    log_nover = None\n",
    "    if negatives == 0:\n",
    "        log_nover = 0\n",
    "    if positives == 0:\n",
    "        log_pover = 0\n",
    "    if negatives != 0:\n",
    "        log_nover = math.log(n_over_p_plus_n, 2)\n",
    "    if positives != 0:\n",
    "        log_pover = math.log(p_over_p_plus_n, 2)\n",
    "\n",
    "\n",
    "    return -p_over_p_plus_n * log_pover - n_over_p_plus_n * log_nover"
   ]
  },
  {
   "cell_type": "code",
   "execution_count": 156,
   "metadata": {},
   "outputs": [],
   "source": [
    "# function to calculate conditional entropy\n",
    "def calculate_conditional_entropy(col_name, dframe):\n",
    "    # find the number of different values (discrete or categorical)\n",
    "    # store the values in an array and find conditional probability for each one\n",
    "    unique_col_vals = dframe[col_name].unique()\n",
    "    unique_col_counts = dframe[col_name].value_counts()\n",
    "\n",
    "    all_conditional_entropies = []\n",
    "    \n",
    "    for col_val in unique_col_vals:\n",
    "\n",
    "        # get all rows with the unique column value\n",
    "        unique_col_val_df = dframe[dframe[col_name] == col_val]\n",
    "\n",
    "        # count the number of democrats and non-democrats in those rows\n",
    "        unique_col_demo_counts = unique_col_val_df['Democrat'].value_counts()\n",
    "        \n",
    "        # calculate the entropy\n",
    "        unique_col_val_entropy = None\n",
    "        if len(unique_col_demo_counts) == 2:\n",
    "            unique_col_val_entropy = calculate_entropy(positives=unique_col_demo_counts[1], negatives=unique_col_demo_counts[0])\n",
    "        else:\n",
    "            continue\n",
    "\n",
    "        # calculate conditional entropy for this column value\n",
    "        con_entrop = (unique_col_counts[col_val]/num_rows_elections) * unique_col_val_entropy\n",
    "\n",
    "        # add this value to the array of conditional entropies\n",
    "        all_conditional_entropies.append(con_entrop)\n",
    "\n",
    "    # sum all conditional entropies together, and return\n",
    "    return np.sum(all_conditional_entropies)"
   ]
  },
  {
   "cell_type": "code",
   "execution_count": 157,
   "metadata": {},
   "outputs": [],
   "source": [
    "# function to validate a row for the decision tree\n",
    "def validate_row(row, tree_root):\n",
    "    node = copy.deepcopy(tree_root)\n",
    "    while node.feature != 0 and node.feature != 1:\n",
    "        node_child_set = False\n",
    "        for child in node.children: \n",
    "            if child.parent_branch_val == row[node.feature]:\n",
    "                node = child\n",
    "                node_child_set = True\n",
    "        if not node_child_set:\n",
    "            return False\n",
    "    return node.feature == row['Democrat']"
   ]
  },
  {
   "cell_type": "code",
   "execution_count": 158,
   "metadata": {},
   "outputs": [],
   "source": [
    "# function to calculate information gain\n",
    "def calculate_information_gain(whole_set_entropy, specific_entropy):\n",
    "    return whole_set_entropy - specific_entropy"
   ]
  },
  {
   "cell_type": "code",
   "execution_count": 159,
   "metadata": {},
   "outputs": [],
   "source": [
    "# get the best feature for current subset of rows\n",
    "def get_best_feature(dframe, col_title=None):\n",
    "    max_info_gain = 0\n",
    "    best_feature = None\n",
    "    for col_name in dframe.columns:\n",
    "        if col_name == 'Democrat':\n",
    "            break\n",
    "        col_cond_entropy = calculate_conditional_entropy(col_name, dframe)\n",
    "        info_gain = calculate_information_gain(elections_clean_entropy, col_cond_entropy)\n",
    "        if info_gain > max_info_gain:\n",
    "            best_feature = col_name\n",
    "            max_info_gain = info_gain\n",
    "\n",
    "    return {\n",
    "        'feature': best_feature,\n",
    "        'info_gain': max_info_gain\n",
    "    }"
   ]
  },
  {
   "cell_type": "code",
   "execution_count": 160,
   "metadata": {},
   "outputs": [],
   "source": [
    "def build_decision_tree(dframe, col_title, cur_tree_node, most_recent_feature, most_recent_ig):\n",
    "\n",
    "    for colval in dframe[col_title].unique():\n",
    "        new_df = dframe.loc[dframe[col_title] == colval]\n",
    "\n",
    "        # count the number of demo vs non-demo in the sub dataframe\n",
    "        unique_col_demo_counts = new_df['Democrat'].value_counts()\n",
    "        # unique_col_demo_counts = unique_col_val_df['Democrat'].shape[0]\n",
    "        # print(col_val)\n",
    "        # print(unique_col_demo_counts)\n",
    "        # print(len(unique_col_demo_counts))\n",
    "        # exit(0)\n",
    "        # to access the values, use int, not string (super weird)\n",
    "        # calculate the entropy\n",
    "        # unique_col_val_entropy = None\n",
    "\n",
    "        # recurse or create a leaf node depending on if there's a mix of demo and non-demo or only one type\n",
    "        if len(unique_col_demo_counts) == 1:\n",
    "            # if only 1 type of outcome, add the appropriate leaf node\n",
    "\n",
    "            # get the only key of the unique_col_demo_counts\n",
    "            leaf_value = unique_col_demo_counts.index.tolist()[0]\n",
    "\n",
    "            # create a new treenode to append to current node's children array\n",
    "            leaf = TreeNode(feature=leaf_value, branch=colval)\n",
    "\n",
    "            # add the leaf to the tree\n",
    "            cur_tree_node.children.append(leaf)\n",
    "        else:\n",
    "            # find the feature with the best info gain\n",
    "            cur_best = get_best_feature(new_df, col_title=col_title)\n",
    "            # print(unique_col_demo_counts)\n",
    "\n",
    "            # print(f\"current best feature: {cur_best['feature']}\")\n",
    "            # print(f\"current max info: {cur_best['info_gain']}\")\n",
    "            # print(f\"most recent feature: {most_recent_feature}\")\n",
    "            # print(f\"most recent info gain: {most_recent_ig}\")\n",
    "\n",
    "            # can't split further\n",
    "            if cur_best['feature'] == most_recent_feature and cur_best['info_gain'] == most_recent_ig:\n",
    "                # just let the majority win\n",
    "                leaf_value = unique_col_demo_counts.index.tolist()[0]\n",
    "\n",
    "                # create a new treenode to append to current node's children array\n",
    "                leaf = TreeNode(feature=leaf_value, branch=colval)\n",
    "                \n",
    "                # add the leaf to the tree\n",
    "                cur_tree_node.children.append(leaf)\n",
    "\n",
    "            else:\n",
    "                # create a new treenode for the best feature\n",
    "                new_node = TreeNode(feature=cur_best['feature'], branch=colval)\n",
    "\n",
    "                # add the feature as a node to the tree\n",
    "                cur_tree_node.children.append(new_node)\n",
    "\n",
    "                # recurse on the newly created node to add to the tree\n",
    "                build_decision_tree(new_df, cur_best['feature'], new_node, cur_best['feature'], cur_best['info_gain'])\n",
    "\n",
    "                # unique_col_val_entropy = calculate_entropy(positives=unique_col_demo_counts[1], negatives=unique_col_demo_counts[0])\n",
    "                # unique_col_val_entropy = 0\n",
    "                # print('testing!!!')\n",
    "                # exit(0)\n",
    "                # continue\n",
    "\n",
    "        # best_feature = get_best_feature(new_df)\n",
    "        # if best_feature:\n",
    "        #     pass"
   ]
  },
  {
   "cell_type": "code",
   "execution_count": 161,
   "metadata": {},
   "outputs": [],
   "source": [
    "## calculate number of positives (1) and negatives (0) for the whole data set\n",
    "vote_outcome_count = elections_clean['Democrat'].value_counts()\n",
    "vote_outcome_total = sum(vote_outcome_count)\n",
    "elections_clean_entropy = calculate_entropy(positives=vote_outcome_count[1], negatives=vote_outcome_count[0])\n",
    "\n",
    "root_stump = None\n",
    "max_info_gain = 0\n",
    "i =0\n",
    "root = get_best_feature(selected_features)\n",
    "\n",
    "id3_tree.feature = root['feature']\n",
    "\n",
    "# build the tree\n",
    "build_decision_tree(selected_features, id3_tree.feature, id3_tree, id3_tree.feature, root['info_gain'])\n"
   ]
  },
  {
   "cell_type": "code",
   "execution_count": 162,
   "metadata": {},
   "outputs": [
    {
     "name": "stdout",
     "output_type": "stream",
     "text": [
      "                    Education           Religion       EthnicMale  \\\n",
      "1089  highschool diploma only  Christian Generic  BLACK_MALE_rate   \n",
      "471   highschool diploma only  Christian Generic  BLACK_MALE_rate   \n",
      "2132             some college           Catholic  BLACK_MALE_rate   \n",
      "1904             some college  Christian Generic  BLACK_MALE_rate   \n",
      "1119  highschool diploma only           Catholic  BLACK_MALE_rate   \n",
      "...                       ...                ...              ...   \n",
      "2727  highschool diploma only  Christian Generic  BLACK_MALE_rate   \n",
      "1497  highschool diploma only  Christian Generic  BLACK_MALE_rate   \n",
      "1256             some college  Christian Generic  BLACK_MALE_rate   \n",
      "860   highschool diploma only  Christian Generic  MULTI_MALE_rate   \n",
      "189   highschool diploma only  Christian Generic  BLACK_MALE_rate   \n",
      "\n",
      "           EthnicFemale  Democrat  \n",
      "1089  BLACK_FEMALE_rate         0  \n",
      "471   BLACK_FEMALE_rate         1  \n",
      "2132  BLACK_FEMALE_rate         0  \n",
      "1904  BLACK_FEMALE_rate         0  \n",
      "1119  BLACK_FEMALE_rate         0  \n",
      "...                 ...       ...  \n",
      "2727  BLACK_FEMALE_rate         0  \n",
      "1497  BLACK_FEMALE_rate         0  \n",
      "1256  BLACK_FEMALE_rate         0  \n",
      "860   BLACK_FEMALE_rate         0  \n",
      "189   BLACK_FEMALE_rate         0  \n",
      "\n",
      "[3145 rows x 5 columns]\n",
      "2201\n",
      "944\n"
     ]
    }
   ],
   "source": [
    "# shuffle the rows\n",
    "selected_shuffled = selected_features.sample(frac=1)\n",
    "print(selected_shuffled)\n",
    "\n",
    "# split the data set to 70-30\n",
    "split_spot = int(0.7*len(selected_shuffled))\n",
    "\n",
    "training = selected_shuffled[:split_spot]\n",
    "validation = selected_shuffled[split_spot:]\n",
    "\n",
    "print(len(training))\n",
    "print(len(validation))"
   ]
  },
  {
   "cell_type": "code",
   "execution_count": 163,
   "metadata": {},
   "outputs": [
    {
     "name": "stdout",
     "output_type": "stream",
     "text": [
      "Education\n"
     ]
    }
   ],
   "source": [
    "# test create another tree with 70% of the data\n",
    "training_tree = DecisionTree()\n",
    "training_root = get_best_feature(training)\n",
    "training_tree.feature = training_root['feature']\n",
    "print(training_tree.feature)\n",
    "\n",
    "# build_decision_tree(selected_features, id3_tree.root_value, id3_tree, id3_tree.root_value, root['info_gain'])\n",
    "\n",
    "\n",
    "build_decision_tree(training, training_tree.feature, training_tree, training_tree.feature, training_root['info_gain'])"
   ]
  },
  {
   "cell_type": "code",
   "execution_count": 164,
   "metadata": {},
   "outputs": [
    {
     "name": "stdout",
     "output_type": "stream",
     "text": [
      "                    Education           Religion                 EthnicMale  \\\n",
      "1483  highschool diploma only  Christian Generic            BLACK_MALE_rate   \n",
      "1599  highschool diploma only  Christian Generic            MULTI_MALE_rate   \n",
      "2475  highschool diploma only  Christian Generic            BLACK_MALE_rate   \n",
      "2403      bachelors or higher  Christian Generic            MULTI_MALE_rate   \n",
      "2151  highschool diploma only  Christian Generic  NATIVE_AMERICAN_MALE_rate   \n",
      "\n",
      "                     EthnicFemale  Democrat  \n",
      "1483            BLACK_FEMALE_rate         0  \n",
      "1599  NATIVE_AMERICAN_FEMALE_rate         0  \n",
      "2475            BLACK_FEMALE_rate         0  \n",
      "2403  NATIVE_AMERICAN_FEMALE_rate         0  \n",
      "2151  NATIVE_AMERICAN_FEMALE_rate         0  \n"
     ]
    }
   ],
   "source": [
    "# try out a value on the created test tree\n",
    "print(validation.head())"
   ]
  },
  {
   "cell_type": "code",
   "execution_count": 165,
   "metadata": {},
   "outputs": [
    {
     "name": "stdout",
     "output_type": "stream",
     "text": [
      "0.8601694915254238\n",
      "over\n"
     ]
    }
   ],
   "source": [
    "correct = 0\n",
    "wrong = 0\n",
    "for index, row in validation.iterrows():\n",
    "#     print(row['Religion'])\n",
    "    guess = validate_row(row, training_tree)\n",
    "    if guess:\n",
    "        correct+=1\n",
    "    else:\n",
    "        wrong+=1\n",
    "correct_rate = correct/(correct+wrong)\n",
    "print(correct_rate)\n",
    "print('over')"
   ]
  },
  {
   "cell_type": "markdown",
   "metadata": {},
   "source": [
    "# Training and Validation Errors"
   ]
  },
  {
   "cell_type": "code",
   "execution_count": 166,
   "metadata": {},
   "outputs": [
    {
     "name": "stdout",
     "output_type": "stream",
     "text": [
      "0.13983050847457623\n"
     ]
    }
   ],
   "source": [
    "# validation error\n",
    "print(1-correct_rate)"
   ]
  },
  {
   "cell_type": "code",
   "execution_count": 167,
   "metadata": {},
   "outputs": [
    {
     "name": "stdout",
     "output_type": "stream",
     "text": [
      "0.11494775102226262\n"
     ]
    }
   ],
   "source": [
    "# training error\n",
    "\n",
    "# go through all rows of the training set and try to predict outcome using the created tree!\n",
    "# since there was failed splitting, there will definitely be missclassifications\n",
    "correct = 0\n",
    "wrong = 0\n",
    "for index, row in training.iterrows():\n",
    "    guess = validate_row(row, training_tree)\n",
    "    if guess:\n",
    "        correct+=1\n",
    "    else:\n",
    "        wrong+=1\n",
    "correct_rate = correct/(correct+wrong)\n",
    "print(1-correct_rate)"
   ]
  },
  {
   "cell_type": "markdown",
   "metadata": {},
   "source": [
    "# max tree depth"
   ]
  },
  {
   "cell_type": "code",
   "execution_count": 168,
   "metadata": {
    "scrolled": true
   },
   "outputs": [
    {
     "name": "stdout",
     "output_type": "stream",
     "text": [
      "5\n"
     ]
    }
   ],
   "source": [
    "def get_max_depth(node, max_depth, cur_depth=0):\n",
    "    if cur_depth > max_depth:\n",
    "        max_depth = cur_depth\n",
    "#     print(cur_depth)\n",
    "    if len(node.children) == 0:\n",
    "        return max_depth\n",
    "    else:\n",
    "        for child in node.children:\n",
    "            return get_max_depth(child, max_depth, cur_depth+1)\n",
    "print(get_max_depth(training_tree, 0))"
   ]
  },
  {
   "cell_type": "markdown",
   "metadata": {},
   "source": [
    "# repeated features"
   ]
  },
  {
   "cell_type": "code",
   "execution_count": 169,
   "metadata": {},
   "outputs": [
    {
     "data": {
      "text/plain": [
       "{'Education': 34, 'EthnicMale': 7, 'Religion': 6, 'EthnicFemale': 22}"
      ]
     },
     "execution_count": 169,
     "metadata": {},
     "output_type": "execute_result"
    }
   ],
   "source": [
    "def count_repeated_features(node, feature_count):\n",
    "    if len(node.children) == 0:\n",
    "        pass\n",
    "    else:\n",
    "        for child in node.children:\n",
    "            if child.feature != 0 and child.feature != 1:\n",
    "                if child.feature in feature_count:\n",
    "                    feature_count[child.feature] += 1\n",
    "                else:\n",
    "                    feature_count[child.feature] = 1\n",
    "                count_repeated_features(child, feature_count)\n",
    "                \n",
    "feature_count = {training_tree.feature: 1}# initialize with root feature\n",
    "count_repeated_features(training_tree, feature_count)\n",
    "feature_count"
   ]
  },
  {
   "cell_type": "markdown",
   "metadata": {},
   "source": [
    "# scatter plot"
   ]
  },
  {
   "cell_type": "code",
   "execution_count": 170,
   "metadata": {},
   "outputs": [
    {
     "data": {
      "text/plain": [
       "<matplotlib.collections.PathCollection at 0x11829d190>"
      ]
     },
     "execution_count": 170,
     "metadata": {},
     "output_type": "execute_result"
    },
    {
     "data": {
      "image/png": "[encoded data removed]",
      "text/plain": [
       "<Figure size 432x288 with 1 Axes>"
      ]
     },
     "metadata": {
      "needs_background": "light"
     },
     "output_type": "display_data"
    }
   ],
   "source": [
    "# use the original dataset for the scatterplot\n",
    "# education for the y axis\n",
    "# fips for the x axis\n",
    "\n",
    "penn_rows = elections_clean[elections_clean['State'] == 42]\n",
    "\n",
    "# get all rows with 0 outcome\n",
    "non_democrat = penn_rows[penn_rows['Democrat'] == 0]\n",
    "# get all rows with 1 outcome\n",
    "only_democrat = penn_rows[penn_rows['Democrat'] == 1]\n",
    "plt.scatter(non_democrat['fips'], non_democrat['Education'], color='red')\n",
    "plt.scatter(only_democrat['fips'], only_democrat['Education'], color='blue')"
   ]
  }
 ],
 "metadata": {
  "kernelspec": {
   "display_name": "Python 3",
   "language": "python",
   "name": "python3"
  },
  "language_info": {
   "codemirror_mode": {
    "name": "ipython",
    "version": 3
   },
   "file_extension": ".py",
   "mimetype": "text/x-python",
   "name": "python",
   "nbconvert_exporter": "python",
   "pygments_lexer": "ipython3",
   "version": "3.8.5"
  }
 },
 "nbformat": 4,
 "nbformat_minor": 4
}
